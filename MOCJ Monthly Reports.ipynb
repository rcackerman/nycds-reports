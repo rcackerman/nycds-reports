{
 "cells": [
  {
   "cell_type": "code",
   "execution_count": null,
   "metadata": {},
   "outputs": [],
   "source": [
    "import os\n",
    "import pandas as pd\n",
    "from pandas.api.types import CategoricalDtype\n",
    "import numpy as np\n",
    "import re"
   ]
  },
  {
   "cell_type": "markdown",
   "metadata": {},
   "source": [
    "### Setup"
   ]
  },
  {
   "cell_type": "code",
   "execution_count": null,
   "metadata": {},
   "outputs": [],
   "source": [
    "MONTH = 'April 2019'\n",
    "FOLDER = 'U:\\Data and Analytics\\Projects\\Data\\MOCJ ' + MONTH"
   ]
  },
  {
   "cell_type": "code",
   "execution_count": null,
   "metadata": {},
   "outputs": [],
   "source": [
    "CRIM_NAMES = [\"Case#\", \"Open Date\", \"Closed Date\", \"Court\", \"Latest Event\",\n",
    "              \"Intake Type\", \"TC C/L\", \"Top Charge\", \"Dispo\"]\n",
    "POST_DISPO_NAMES = [\"Case#\", \"Open Date\", \"Closed Date\", \"Court\", \"Latest Event\",\n",
    "                    \"Intake Type\", \"TC C/L\", \"Top Charge\", \"Dispo\", \"Case Type\"]\n",
    "\n",
    "MOCJ_CASE_TYPES = CategoricalDtype(categories=[\"Homicide\",\n",
    "                                               \"Violent Felony\",\n",
    "                                               \"Non-Violent Felony\",\n",
    "                                               \"Misdemeanor\",\n",
    "                                               \"Violation & Other\"],\n",
    "                                   ordered=True)\n",
    "MOCJ_INTAKE_TYPES = CategoricalDtype(categories=[\"Primary Case\", \"Conflict Case\", \"Post Arraignment\"],\n",
    "                                     ordered=True)\n",
    "MOCJ_OUTFLOW_TYPES = CategoricalDtype(categories=[\"Post-Arraignment Shift Transfer\",\n",
    "                                                  \"Post-Arraignment Disposition\",\n",
    "                                                  \"Arraignment Shift Disposition\"],\n",
    "                                      ordered=True)"
   ]
  },
  {
   "cell_type": "markdown",
   "metadata": {},
   "source": [
    "Functions for classifying top count and intake type, to translate from PDCMS categories to MOCJ categories."
   ]
  },
  {
   "cell_type": "code",
   "execution_count": null,
   "metadata": {},
   "outputs": [],
   "source": [
    "def classify_intake_type(intake_type):\n",
    "    \"\"\"Classifies intake type into MOCJ-requested categories, which are:\n",
    "    New Cases - Primary Case at Arraignment Shift\n",
    "    New Cases - Conflict Case at Arraignment Shift\n",
    "    New Cases - Post Arraignment Shift Other Intake\n",
    "    \"\"\"\n",
    "    intake_type = str(intake_type).strip().lower()\n",
    "    if (intake_type in [\"arraignment\", \"row\"]):\n",
    "        return (\"Primary Case\")\n",
    "    elif (intake_type in [\"conflict row\", \"conflict arraignment\"]):\n",
    "        return (\"Conflict Case\")\n",
    "    elif (intake_type.startswith(\"transfer\")) | (intake_type == \"assignment\"):\n",
    "        return (\"Post Arraignment\")\n",
    "    else:\n",
    "        return (\"DANGER\")"
   ]
  },
  {
   "cell_type": "code",
   "execution_count": null,
   "metadata": {},
   "outputs": [],
   "source": [
    "def classify_tc(tc):\n",
    "    \"\"\"Classifies top charge class and levels into MOCJ-requested categories.\n",
    "    \"\"\"\n",
    "    tc = str(tc) #coerce TC type to string\n",
    "    if tc == \"H\":\n",
    "        return (\"Homicide\")\n",
    "    elif (\"FL\" in tc) or (\"FV\" in tc):\n",
    "        return (\"Violent Felony\")\n",
    "    elif (tc.endswith(\"F\") or tc == \"F\"):\n",
    "        return (\"Non-Violent Felony\")\n",
    "    elif (tc.endswith(\"M\") or tc == \"M\"):\n",
    "        return (\"Misdemeanor\")\n",
    "    else:\n",
    "        return (\"Violation & Other\")"
   ]
  },
  {
   "cell_type": "code",
   "execution_count": null,
   "metadata": {},
   "outputs": [],
   "source": [
    "def categorize_disposition(row):\n",
    "    if (row[\"Open Date\"] == row[\"Closed Date\"]):\n",
    "        return \"Arraignment Shift Disposition\"\n",
    "    elif (row[\"Dispo\"] in [\"RPC\", \"RLAS\", \"R18B\", \"RNDS\", \"ADBX\", \"ADBR\", \"ADQU\", \"ADRI\"]):\n",
    "        return \"Post-Arraignment Shift Transfer\"\n",
    "    else:\n",
    "        return \"Post-Arraignment Shift Disposition\""
   ]
  },
  {
   "cell_type": "markdown",
   "metadata": {},
   "source": [
    "## Criminal Cases\n",
    "Criminal cases opened and closed in the month"
   ]
  },
  {
   "cell_type": "code",
   "execution_count": null,
   "metadata": {},
   "outputs": [],
   "source": [
    "crim_cases_opened = pd.read_csv(\"{}/crim_cases_opened.csv\".format(FOLDER),\n",
    "                                names=CRIM_NAMES,\n",
    "                                header=0,\n",
    "                               index_col=False)\n",
    "crim_cases_closed = pd.read_csv(\"{}/crim_cases_closed.csv\".format(FOLDER),\n",
    "                                names=CRIM_NAMES,\n",
    "                                header=0,\n",
    "                               index_col=False)\n",
    "\n",
    "\n",
    "crim_cases = pd.concat([crim_cases_opened, crim_cases_closed])\n",
    "print(crim_cases.shape)\n",
    "\n",
    "crim_cases = crim_cases.drop_duplicates().reset_index(drop=True)\n",
    "print(crim_cases.shape)"
   ]
  },
  {
   "cell_type": "code",
   "execution_count": null,
   "metadata": {},
   "outputs": [],
   "source": [
    "crim_cases[\"Case#\"].value_counts()\n",
    "crim_cases[crim_cases[\"Case#\"] == \"21-722054\"]"
   ]
  },
  {
   "cell_type": "code",
   "execution_count": null,
   "metadata": {},
   "outputs": [],
   "source": [
    "crim_cases_pending_1st = pd.read_csv(\"{}/crim_cases_pending_1st.csv\".format(FOLDER),\n",
    "                                     names=CRIM_NAMES, header=0, index_col=False)\n",
    "crim_cases_pending_end = pd.read_csv(\"{}/crim_cases_pending_last.csv\".format(FOLDER),\n",
    "                                      names=CRIM_NAMES, header=0, index_col=False)\n",
    "\n",
    "crim_cases = pd.concat([crim_cases,\n",
    "                        crim_cases_pending_1st,\n",
    "                        crim_cases_pending_end])\n",
    "print(crim_cases.shape)"
   ]
  },
  {
   "cell_type": "code",
   "execution_count": null,
   "metadata": {},
   "outputs": [],
   "source": [
    "crim_cases = crim_cases.dropna(how=\"all\")\n",
    "print(crim_cases.shape)\n",
    "\n",
    "crim_cases = crim_cases.drop_duplicates(subset=[\"Case#\", \"Open Date\", \"Closed Date\", \"Intake Type\", \"Dispo\"],\n",
    "                                        keep='last').reset_index(drop = True)\n",
    "print(crim_cases.shape)\n",
    "\n",
    "# Checking whether a known duplicate has been de-duplicated\n",
    "crim_cases[crim_cases[\"Case#\"] == '21-709207']"
   ]
  },
  {
   "cell_type": "code",
   "execution_count": null,
   "metadata": {},
   "outputs": [],
   "source": [
    "crim_cases[\"Open Date\"] = pd.to_datetime(crim_cases[\"Open Date\"])\n",
    "crim_cases[\"Closed Date\"] = pd.to_datetime(crim_cases[\"Closed Date\"])"
   ]
  },
  {
   "cell_type": "markdown",
   "metadata": {},
   "source": [
    "### Cleaning cases\n",
    "We don't want non-criminal IDV, VOP, or VOCD cases in these counts, so we're getting rid of cases where the top charge is either VISITATION or FAMILY OFFENSE.\n",
    "\n",
    "Some top charges have more than one class and level, so we consolidate those."
   ]
  },
  {
   "cell_type": "code",
   "execution_count": null,
   "metadata": {},
   "outputs": [],
   "source": [
    "# Getting rid of IDV/Visitation cases\n",
    "crim_cases = crim_cases[~crim_cases['Top Charge'].str.contains(\"VISITATION\", na=False)]\n",
    "crim_cases = crim_cases[~crim_cases['Top Charge'].str.contains('FAMILY OFFENSE', na=False)]\n",
    "crim_cases = crim_cases.loc[~((crim_cases[\"Court\"] == \"IDV\")\n",
    "                              & (crim_cases[\"Intake Type\"] == \"Assignment\"))]\n",
    "crim_cases = crim_cases.loc[~((crim_cases[\"Court\"] == \"IDV\")\n",
    "                              & (crim_cases[\"Intake Type\"].str.startswith(\"Trans\")))]"
   ]
  },
  {
   "cell_type": "code",
   "execution_count": null,
   "metadata": {},
   "outputs": [],
   "source": [
    "# Re-code homicide cases to a separate Homicide class, but don't include attempted homicides\n",
    "# Finds top charges that have \"MUR\" but don't have \"ATT\"\n",
    "crim_cases.loc[crim_cases[\"Top Charge\"].str.contains('MUR', na=False) \\\n",
    "                & ~(crim_cases[\"Top Charge\"].str.contains(\"ATT\", na=False)), \"TC C/L\"] = \"H\"\n",
    "crim_cases.loc[crim_cases[\"Top Charge\"].str.contains(\"- MUR\", na=False), \"TC C/L\"] = \"H\""
   ]
  },
  {
   "cell_type": "code",
   "execution_count": null,
   "metadata": {},
   "outputs": [],
   "source": [
    "crim_cases[crim_cases[\"TC C/L\"] == \"H\"]"
   ]
  },
  {
   "cell_type": "code",
   "execution_count": null,
   "metadata": {},
   "outputs": [],
   "source": [
    "# Re-code TC C/L for extradition cases\n",
    "crim_cases.loc[(crim_cases[\"Top Charge\"].str.contains(\"FUG\", na=False)), 'TC C/L'] = \"M\""
   ]
  },
  {
   "cell_type": "code",
   "execution_count": null,
   "metadata": {},
   "outputs": [],
   "source": [
    "# AC Misdemeanors don't get counted correctly\n",
    "crim_cases.loc[(crim_cases[\"Top Charge\"].str.contains(\"AC - M\", na=False)), 'TC C/L'] = \"M\""
   ]
  },
  {
   "cell_type": "markdown",
   "metadata": {},
   "source": [
    "We also check to see if any VOCDs or VOPs have snuck in."
   ]
  },
  {
   "cell_type": "code",
   "execution_count": null,
   "metadata": {},
   "outputs": [],
   "source": [
    "# Check for any VOCD or VOP cases, then fix in PDCMS until there are no more cases returned\n",
    "crim_cases[(crim_cases['Top Charge'].str.contains(\"VIO\", na=False))\n",
    "           & (crim_cases['Top Charge'].str.contains('COND', na=False))]"
   ]
  },
  {
   "cell_type": "code",
   "execution_count": null,
   "metadata": {},
   "outputs": [],
   "source": [
    "# Check for any VOCD or VOP cases, then fix in PDCMS until there are no more cases returned\n",
    "crim_cases[(crim_cases['Top Charge'].str.contains(\"VOP\", na=False))]"
   ]
  },
  {
   "cell_type": "markdown",
   "metadata": {},
   "source": [
    "### Determining Start and End\n",
    "\n",
    "Because this is now a combined dataset, we need to find out whether the cases were opened and/or closed in the month."
   ]
  },
  {
   "cell_type": "code",
   "execution_count": null,
   "metadata": {},
   "outputs": [],
   "source": [
    "crim_cases[crim_cases[\"Open Date\"] < pd.to_datetime('2019-04-01')][\"Open Date\"].describe()"
   ]
  },
  {
   "cell_type": "code",
   "execution_count": null,
   "metadata": {},
   "outputs": [],
   "source": [
    "def check_in_month(dt):\n",
    "    \"\"\"Check if a date is within the same month and year\n",
    "    \"\"\"\n",
    "    \n",
    "    month = pd.datetime.today().month -1\n",
    "    year = pd.datetime.today().year\n",
    "    return True if (dt.year == year) and (dt.month == month) else False\n",
    "\n",
    "crim_cases[\"opened_in_month\"] = crim_cases[\"Open Date\"].apply(lambda x: check_in_month(x))\n",
    "crim_cases[\"closed_in_month\"] = crim_cases[\"Closed Date\"].apply(lambda x: check_in_month(x))"
   ]
  },
  {
   "cell_type": "code",
   "execution_count": null,
   "metadata": {},
   "outputs": [],
   "source": [
    "# Because the dataset is only cases that either opened or closed in the month\n",
    "# we know that any case not opened in this month will have been pending as of the 1st,\n",
    "# and we know that any case not closed in this month will have been pending as of the\n",
    "# last of the month.\n",
    "\n",
    "crim_cases[\"pending_first\"] = crim_cases[\"Open Date\"].apply(lambda x: True if x < pd.to_datetime('2019-04-01') else False)"
   ]
  },
  {
   "cell_type": "code",
   "execution_count": null,
   "metadata": {},
   "outputs": [],
   "source": [
    "crim_cases[\"pending_last\"] = crim_cases[\"Closed Date\"].apply(\n",
    "                            lambda x: True if ((x > pd.to_datetime('2019-04-30')) | pd.isnull(x)) else False)"
   ]
  },
  {
   "cell_type": "code",
   "execution_count": null,
   "metadata": {},
   "outputs": [],
   "source": [
    "crim_cases[crim_cases.pending_first == True][[\"Open Date\", \"Closed Date\"]].describe()"
   ]
  },
  {
   "cell_type": "code",
   "execution_count": null,
   "metadata": {},
   "outputs": [],
   "source": [
    "crim_cases[crim_cases.pending_last == True][[\"Closed Date\", \"Open Date\"]].describe()"
   ]
  },
  {
   "cell_type": "markdown",
   "metadata": {},
   "source": [
    "### Classifying Top Charges\n",
    "Now we translate the top charge type to MOCJ categories and check that everything worked OK."
   ]
  },
  {
   "cell_type": "code",
   "execution_count": null,
   "metadata": {},
   "outputs": [],
   "source": [
    "#crim_cases[\"TC C/L\"].value_counts()"
   ]
  },
  {
   "cell_type": "code",
   "execution_count": null,
   "metadata": {},
   "outputs": [],
   "source": [
    "crim_cases[\"TC_Type\"] = crim_cases[\"TC C/L\"].apply(lambda x: classify_tc(x))\n",
    "crim_cases.groupby([\"TC_Type\", \"TC C/L\"]).size()"
   ]
  },
  {
   "cell_type": "code",
   "execution_count": null,
   "metadata": {},
   "outputs": [],
   "source": [
    "\n",
    "crim_cases[\"TC_Type\"] = crim_cases.TC_Type.astype(MOCJ_CASE_TYPES)"
   ]
  },
  {
   "cell_type": "markdown",
   "metadata": {},
   "source": [
    "### Classifying Intake Type\n",
    "\n",
    "Now we translate the intake type to MOCJ categories and check that everything is OK.\n",
    "\n",
    "We are assuming that everything with a PDCMS intake type of \"Assignment\" and a court other than IDV is probably actually a transfer."
   ]
  },
  {
   "cell_type": "code",
   "execution_count": null,
   "metadata": {},
   "outputs": [],
   "source": [
    "#crim_cases_closed[\"intake type\"] = crim_cases_closed[\"TC C/L\"].apply(lambda x: classify_tc(x))\n",
    "crim_cases[\"intake type\"] = crim_cases[\"Intake Type\"].apply(lambda x: classify_intake_type(x))\n",
    "\n",
    "crim_cases[\"intake type\"].value_counts()"
   ]
  },
  {
   "cell_type": "code",
   "execution_count": null,
   "metadata": {},
   "outputs": [],
   "source": [
    "crim_cases[crim_cases[\"intake type\"] == \"DANGER\"]"
   ]
  },
  {
   "cell_type": "code",
   "execution_count": null,
   "metadata": {},
   "outputs": [],
   "source": [
    "# Make intake type into a Pandas categorical type, so pivot tables are sorted\n",
    "crim_cases[\"intake type\"] = crim_cases[\"intake type\"].astype(MOCJ_INTAKE_TYPES)"
   ]
  },
  {
   "cell_type": "markdown",
   "metadata": {},
   "source": [
    "### Classifying Outflow Type\n",
    "\n",
    "Translate the disposition to MOCJ categories."
   ]
  },
  {
   "cell_type": "code",
   "execution_count": null,
   "metadata": {},
   "outputs": [],
   "source": [
    "crim_cases[\"MOCJ_Dispo\"] = crim_cases.apply(lambda x: categorize_disposition(x), axis=1)\n",
    "crim_cases.groupby([\"MOCJ_Dispo\", \"Dispo\"]).size()"
   ]
  },
  {
   "cell_type": "code",
   "execution_count": null,
   "metadata": {},
   "outputs": [],
   "source": [
    "crim_cases.groupby([\"MOCJ_Dispo\"]).size()"
   ]
  },
  {
   "cell_type": "markdown",
   "metadata": {},
   "source": [
    "### Final Aggregate Counts"
   ]
  },
  {
   "cell_type": "code",
   "execution_count": null,
   "metadata": {},
   "outputs": [],
   "source": [
    "crim_cases[crim_cases.opened_in_month == True].pivot_table(values=[\"Case#\"],\n",
    "                                                                index=[\"TC_Type\", \"intake type\"],\n",
    "                                                                aggfunc=np.count_nonzero)"
   ]
  },
  {
   "cell_type": "code",
   "execution_count": null,
   "metadata": {},
   "outputs": [],
   "source": [
    "crim_cases[crim_cases.closed_in_month == True].pivot_table(values=[\"Case#\"],\n",
    "                                                           index=[\"TC_Type\", \"MOCJ_Dispo\"],\n",
    "                                                           aggfunc=np.count_nonzero)"
   ]
  },
  {
   "cell_type": "code",
   "execution_count": null,
   "metadata": {},
   "outputs": [],
   "source": [
    "crim_cases[crim_cases.pending_first == True].pivot_table(values=[\"Case#\"], index=[\"TC_Type\"],\n",
    "                                                         aggfunc=np.count_nonzero)"
   ]
  },
  {
   "cell_type": "code",
   "execution_count": null,
   "metadata": {},
   "outputs": [],
   "source": [
    "crim_cases[crim_cases.pending_last == True].pivot_table(values=[\"Case#\"], index=[\"TC_Type\"],\n",
    "                                                        aggfunc=np.count_nonzero)"
   ]
  },
  {
   "cell_type": "code",
   "execution_count": null,
   "metadata": {},
   "outputs": [],
   "source": [
    "crim_cases[\"case_age\"] = (crim_cases[\"Closed Date\"] - crim_cases[\"Open Date\"]).dt.days\n",
    "crim_cases.case_age.describe()"
   ]
  },
  {
   "cell_type": "code",
   "execution_count": null,
   "metadata": {},
   "outputs": [],
   "source": [
    "crim_cases[crim_cases.closed_in_month == True].groupby('TC_Type').agg({'case_age': 'describe'})"
   ]
  },
  {
   "cell_type": "code",
   "execution_count": null,
   "metadata": {},
   "outputs": [],
   "source": [
    "crim_cases[crim_cases.case_age > 200][[\"Case#\", \"Court\", \"Latest Event\", \"Top Charge\", \"Dispo\", \"case_age\"]]"
   ]
  },
  {
   "cell_type": "markdown",
   "metadata": {},
   "source": [
    "## Post-Disposition Cases"
   ]
  },
  {
   "cell_type": "code",
   "execution_count": null,
   "metadata": {},
   "outputs": [],
   "source": [
    "pd_cases = pd.concat([pd.read_csv(\"{}/post_dispo_opened.csv\".format(FOLDER),\n",
    "                                  names=POST_DISPO_NAMES,\n",
    "                                  header=0),\n",
    "                      pd.read_csv(\"{}/post_dispo_closed.csv\".format(FOLDER),\n",
    "                                  names=POST_DISPO_NAMES,\n",
    "                                  header=0),\n",
    "                      pd.read_csv(\"{}/post_dispo_pending_1st.csv\".format(FOLDER),\n",
    "                                  names=POST_DISPO_NAMES,\n",
    "                                  header=0),\n",
    "                      pd.read_csv(\"{}/post_dispo_pending_last.csv\".format(FOLDER),\n",
    "                                  names=POST_DISPO_NAMES,\n",
    "                                  header=0)])\n",
    "\n",
    "pd_cases = pd_cases.drop_duplicates(subset=[\"Case#\", \"Open Date\", \"Closed Date\"],\n",
    "                                    keep='last').reset_index(drop = True)\n",
    "pd_cases = pd_cases.dropna(how='all')\n",
    "\n",
    "pd_cases[\"Case Type\"] = pd_cases[\"Case Type\"].str.upper()"
   ]
  },
  {
   "cell_type": "markdown",
   "metadata": {},
   "source": [
    "Create dummy variables for whether the case was opened and/or closed in the month."
   ]
  },
  {
   "cell_type": "code",
   "execution_count": null,
   "metadata": {},
   "outputs": [],
   "source": [
    "pd_cases[\"Open Date\"] = pd.to_datetime(pd_cases[\"Open Date\"])\n",
    "pd_cases[\"Closed Date\"] = pd.to_datetime(pd_cases[\"Closed Date\"])\n",
    "pd_cases[\"opened_in_month\"] = pd_cases[\"Open Date\"].apply(lambda x: check_in_month(x))\n",
    "pd_cases[\"closed_in_month\"] = pd_cases[\"Closed Date\"].apply(lambda x: check_in_month(x))"
   ]
  },
  {
   "cell_type": "markdown",
   "metadata": {},
   "source": [
    "Create a dummy variable for pending on the 1st of the month or the last."
   ]
  },
  {
   "cell_type": "code",
   "execution_count": null,
   "metadata": {},
   "outputs": [],
   "source": [
    "pd_cases[\"pending_first\"] = pd_cases[\"Open Date\"].apply(lambda x: True if x < pd.to_datetime('2019-04-01') else False)"
   ]
  },
  {
   "cell_type": "code",
   "execution_count": null,
   "metadata": {},
   "outputs": [],
   "source": [
    "pd_cases[\"pending_last\"] = pd_cases[\"Closed Date\"].apply(\n",
    "                            lambda x: True if ((x > pd.to_datetime('2019-04-30')) | pd.isnull(x)) else False)"
   ]
  },
  {
   "cell_type": "code",
   "execution_count": null,
   "metadata": {},
   "outputs": [],
   "source": [
    "pd_cases[pd_cases.pending_first == True].groupby(\"Case Type\").size()"
   ]
  },
  {
   "cell_type": "code",
   "execution_count": null,
   "metadata": {},
   "outputs": [],
   "source": [
    "pd_cases[pd_cases.opened_in_month == True].groupby(\"Case Type\").size()"
   ]
  },
  {
   "cell_type": "code",
   "execution_count": null,
   "metadata": {},
   "outputs": [],
   "source": [
    "pd_cases[pd_cases.closed_in_month == True].groupby(\"Case Type\").size()"
   ]
  },
  {
   "cell_type": "code",
   "execution_count": null,
   "metadata": {},
   "outputs": [],
   "source": [
    "pd_cases[pd_cases.pending_last == True].groupby(\"Case Type\").size()"
   ]
  }
 ],
 "metadata": {
  "kernelspec": {
   "display_name": "Python 3",
   "language": "python",
   "name": "python3"
  },
  "language_info": {
   "codemirror_mode": {
    "name": "ipython",
    "version": 3
   },
   "file_extension": ".py",
   "mimetype": "text/x-python",
   "name": "python",
   "nbconvert_exporter": "python",
   "pygments_lexer": "ipython3",
   "version": "3.6.6"
  }
 },
 "nbformat": 4,
 "nbformat_minor": 2
}
