{
 "cells": [
  {
   "cell_type": "code",
   "execution_count": null,
   "metadata": {},
   "outputs": [],
   "source": [
    "import os.path\n",
    "import pandas as pd\n",
    "from pandas.api.types import CategoricalDtype\n",
    "import numpy as np\n",
    "import re"
   ]
  },
  {
   "cell_type": "code",
   "execution_count": null,
   "metadata": {},
   "outputs": [],
   "source": [
    "# TODO: add case type to criminal case reports in PDCMS\n",
    "NAMES = [\"Case#\", \"Open Date\", \"Closed Date\", \"Court\", \"Latest Event\",\n",
    "             \"Intake Type\", \"TC C/L\", \"Top Charge\", \"Dispo\", \"Case Type\"]\n",
    "CASE_TYPES = CategoricalDtype(categories=[\"Violent Felony\",\n",
    "                                          \"Non-Violent Felony\",\n",
    "                                          \"Misdemeanors, Violation, or Other\"],\n",
    "                              ordered=True)\n",
    "DATA_DIR = os.path.abspath('../../Data/')"
   ]
  },
  {
   "cell_type": "code",
   "execution_count": null,
   "metadata": {},
   "outputs": [],
   "source": [
    "def classify_tc(tc):\n",
    "    \"\"\"Classifies top charge class and levels into MOCJ-requested categories.\n",
    "    \"\"\"\n",
    "    tc = str(tc) #coerce TC type to string\n",
    "    if (tc == \"H\"):\n",
    "        return (\"Homicide\")\n",
    "    elif tc.endswith(\"F\") or (\"FL\" in tc) or (\"FV\" in tc) or (tc == \"F\"):\n",
    "        return (\"Other Felony\")\n",
    "    else:\n",
    "        return (\"Misdemeanor, Violation, or Other\")"
   ]
  },
  {
   "cell_type": "markdown",
   "metadata": {},
   "source": [
    "## Opened Cases\n",
    "Criminal, VOP, and VOCD cases opened in the reporting year"
   ]
  },
  {
   "cell_type": "code",
   "execution_count": null,
   "metadata": {},
   "outputs": [],
   "source": [
    "cases_opened = pd.read_csv(os.path.join(DATA_DIR, \"ILS_cases_opened_2018.csv\"),\n",
    "                           names=NAMES,\n",
    "                           header=0)\n",
    "#cases_opened[\"tc_type\"] = case_opened[\"TC C/L\"].apply(lambda x: classify_tc(tc))"
   ]
  },
  {
   "cell_type": "code",
   "execution_count": null,
   "metadata": {},
   "outputs": [],
   "source": [
    "# Re-code TC C/L for extradition cases\n",
    "cases_opened.loc[(cases_opened[\"Top Charge\"].str.contains(\"FUG\", na=False)), 'TC C/L'] = \"M\"\n",
    "# AC Misdemeanors don't get counted correctly\n",
    "cases_opened.loc[(cases_opened[\"Top Charge\"].str.contains(\"AC - M\", na=False)), 'TC C/L'] = \"M\"\n",
    "# Re-code TC C/L for homicides\n",
    "cases_opened.loc[(cases_opened[\"Top Charge\"]).str.startswith(\"MUR\", na=False), 'TC C/L'] = 'H'"
   ]
  },
  {
   "cell_type": "code",
   "execution_count": null,
   "metadata": {},
   "outputs": [],
   "source": [
    "cases_opened[\"top_charge_type\"] = cases_opened[\"TC C/L\"].apply(lambda x: classify_tc(x))"
   ]
  },
  {
   "cell_type": "code",
   "execution_count": null,
   "metadata": {},
   "outputs": [],
   "source": [
    "pd.set_option('display.max_rows', 1000)"
   ]
  },
  {
   "cell_type": "code",
   "execution_count": null,
   "metadata": {},
   "outputs": [],
   "source": [
    "cases_opened.pivot_table(columns=[\"top_charge_type\"], aggfunc=\"count\")"
   ]
  },
  {
   "cell_type": "code",
   "execution_count": null,
   "metadata": {},
   "outputs": [],
   "source": [
    "# Getting rid of IDV/Visitation cases\n",
    "cases_opened = cases_opened[~cases_opened['Top Charge'].str.contains(\"VISITATION\", na=False)]\n",
    "cases_opened = cases_opened[~cases_opened['Top Charge'].str.contains('FAMILY OFFENSE', na=False)]\n",
    "cases_opened = cases_opened.loc[~((cases_opened[\"Court\"] == \"IDV\")\n",
    "                              & (cases_opened[\"Intake Type\"] == \"Assignment\"))]\n",
    "cases_opened = cases_opened.loc[~((cases_opened[\"Court\"] == \"IDV\")\n",
    "                              & (cases_opened[\"Intake Type\"].str.startswith(\"Trans\")))]"
   ]
  },
  {
   "cell_type": "code",
   "execution_count": null,
   "metadata": {},
   "outputs": [],
   "source": [
    "cases_opened = pd.read_csv(os.path.join(DATA_DIR, \"ILS_cases_opened_2018.csv\"))\n",
    "#cases_opened[\"tc_type\"] = case_opened[\"TC C/L\"].apply(lambda x: classify_tc(tc))"
   ]
  },
  {
   "cell_type": "code",
   "execution_count": null,
   "metadata": {},
   "outputs": [],
   "source": [
    "# Re-code TC C/L for extradition cases\n",
    "cases_opened.loc[(cases_opened[\"Top Charge\"].str.contains(\"FUG\", na=False)), 'TC C/L'] = \"M\"\n",
    "# AC Misdemeanors don't get counted correctly\n",
    "cases_opened.loc[(cases_opened[\"Top Charge\"].str.contains(\"AC - M\", na=False)), 'TC C/L'] = \"M\"\n",
    "# Re-code TC C/L for homicides\n",
    "cases_opened.loc[(cases_opened[\"Top Charge\"]).str.startswith(\"MUR\", na=False), 'TC C/L'] = 'H'"
   ]
  },
  {
   "cell_type": "code",
   "execution_count": null,
   "metadata": {},
   "outputs": [],
   "source": [
    "cases_opened[\"top_charge_type\"] = cases_opened[\"TC C/L\"].apply(lambda x: classify_tc(x))"
   ]
  },
  {
   "cell_type": "code",
   "execution_count": null,
   "metadata": {},
   "outputs": [],
   "source": [
    "cases_opened.groupby(\"top_charge_type\").size()"
   ]
  },
  {
   "cell_type": "markdown",
   "metadata": {},
   "source": [
    "## Closed Cases\n",
    "Criminal, VOCD, and VOP cases closed in the reporting year."
   ]
  },
  {
   "cell_type": "code",
   "execution_count": null,
   "metadata": {},
   "outputs": [],
   "source": [
    "cases_closed = pd.read_csv(os.path.join(DATA_DIR, \"ILS_cases_closed_2018.csv\"),\n",
    "                           names=NAMES,\n",
    "                           header=0)\n",
    "#cases_closed[\"tc_type\"] = case_opened[\"TC C/L\"].apply(lambda x: classify_tc(tc))"
   ]
  },
  {
   "cell_type": "code",
   "execution_count": null,
   "metadata": {},
   "outputs": [],
   "source": [
    "cases_closed.head()"
   ]
  },
  {
   "cell_type": "code",
   "execution_count": null,
   "metadata": {},
   "outputs": [],
   "source": [
    "# Re-code TC C/L for extradition cases\n",
    "cases_closed.loc[(cases_closed[\"Top Charge\"].str.contains(\"FUG\", na=False)), 'TC C/L'] = \"M\"\n",
    "# AC Misdemeanors don't get counted correctly\n",
    "cases_closed.loc[(cases_closed[\"Top Charge\"].str.contains(\"AC - M\", na=False)), 'TC C/L'] = \"M\"\n",
    "# Re-code TC C/L for homicides\n",
    "cases_closed.loc[(cases_closed[\"Top Charge\"]).str.startswith(\"MUR\", na=False), 'TC C/L'] = 'H'"
   ]
  },
  {
   "cell_type": "code",
   "execution_count": null,
   "metadata": {},
   "outputs": [],
   "source": [
    "# Getting rid of IDV/Visitation cases\n",
    "cases_closed = cases_closed[~cases_closed['Top Charge'].str.contains(\"VISITATION\", na=False)]\n",
    "cases_closed = cases_closed[~cases_closed['Top Charge'].str.contains('FAMILY OFFENSE', na=False)]\n",
    "cases_closed = cases_closed.loc[~((cases_closed[\"Court\"] == \"IDV\")\n",
    "                              & (cases_closed[\"Intake Type\"] == \"Assignment\"))]\n",
    "cases_closed = cases_closed.loc[~((cases_closed[\"Court\"] == \"IDV\")\n",
    "                              & (cases_closed[\"Intake Type\"].str.startswith(\"Trans\")))]"
   ]
  },
  {
   "cell_type": "code",
   "execution_count": null,
   "metadata": {},
   "outputs": [],
   "source": [
    "cases_closed[\"top_charge_type\"] = cases_closed[\"TC C/L\"].apply(lambda x: classify_tc(x))"
   ]
  },
  {
   "cell_type": "code",
   "execution_count": null,
   "metadata": {},
   "outputs": [],
   "source": [
    "cases_closed[['top_charge_type', 'Case#']].pivot_table(columns=[\"top_charge_type\"], aggfunc=\"count\")"
   ]
  },
  {
   "cell_type": "markdown",
   "metadata": {},
   "source": [
    "#### Non-Disposition Reasons\n",
    "\n",
    "| Reason     | PDCMS Code |\n",
    "|---------------|---------|\n",
    "| Absconded     |\n",
    "| Not indigent |\n",
    "|Conflict of Interest | C/I\n",
    "| Trans. to Family Court |  AFC \n",
    "| Mental Institution | 730\n",
    "| Abated | ABAT\n",
    "| Retained private counsel | RPC\n",
    "| Lack of Cooperation |\n",
    "| Other (Specify) | 871 (Duplicate File and Defendant Pro se, PD relieved)\n",
    "|----------------|--------------------------------|"
   ]
  },
  {
   "cell_type": "code",
   "execution_count": null,
   "metadata": {},
   "outputs": [],
   "source": [
    "DISPOS = {'final':      ['ACD', 'ACQ', 'CLOS', 'CONS', 'COV',\n",
    "                         'DDP', 'DEND', 'DISM', 'DISS', 'DWOP',\n",
    "                         'EXH', 'FACD', 'GJNB', 'MACD', 'PLEA',\n",
    "                         'PLSE', 'ST', 'SAT', 'RES', 'SOR1',\n",
    "                         'TERM','TOPV','WADI'],\n",
    "           'trial':     ['DIAT', 'ACQ', 'FTTR', 'MLTR', 'MTTR', 'NGMD', 'TRVR'],\n",
    "           'adjourned': ['ADBR', 'ADBX','ADQU','ADRI','ADSA'],\n",
    "           'probation': ['PRBX' 'PROB','PROT','REV','VDCH'],\n",
    "           'cond_dis':  ['VOCD'],\n",
    "           'mental':    ['730'],\n",
    "           'abated':    ['ABAT'],\n",
    "           'family':    ['AFC'],\n",
    "           'conflict':  ['C/I'],\n",
    "           'other':     ['OTER', 'OTH', 'R18B', 'RELC', 'RLAS', 'RNDS'],\n",
    "           'rpc':       ['RPC']}"
   ]
  },
  {
   "cell_type": "code",
   "execution_count": null,
   "metadata": {},
   "outputs": [],
   "source": [
    "# TODO fix this over-engineered code\n",
    "dispo_cat_df = pd.DataFrame.from_records([(dkey, codes) for dkey, dvalue in DISPOS.items() for codes in dvalue],\n",
    "                                         columns=['type', 'dispo_code'])"
   ]
  },
  {
   "cell_type": "code",
   "execution_count": null,
   "metadata": {},
   "outputs": [],
   "source": [
    "cases_closed.join(dispo_cat_df, left)"
   ]
  },
  {
   "cell_type": "code",
   "execution_count": null,
   "metadata": {},
   "outputs": [],
   "source": [
    "# Mental Institution\n",
    "# Code: 730, NGRI"
   ]
  },
  {
   "cell_type": "code",
   "execution_count": null,
   "metadata": {},
   "outputs": [],
   "source": [
    "# Abated\n",
    "# Codes: ABAT"
   ]
  },
  {
   "cell_type": "code",
   "execution_count": null,
   "metadata": {},
   "outputs": [],
   "source": [
    "# Retained Private Counsel\n",
    "# Codes: "
   ]
  }
 ],
 "metadata": {
  "kernelspec": {
   "display_name": "Python 3",
   "language": "python",
   "name": "python3"
  },
  "language_info": {
   "codemirror_mode": {
    "name": "ipython",
    "version": 3
   },
   "file_extension": ".py",
   "mimetype": "text/x-python",
   "name": "python",
   "nbconvert_exporter": "python",
   "pygments_lexer": "ipython3",
   "version": "3.6.6"
  }
 },
 "nbformat": 4,
 "nbformat_minor": 2
}
