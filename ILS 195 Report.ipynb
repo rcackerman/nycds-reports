{
 "cells": [
  {
   "cell_type": "code",
   "execution_count": 1,
   "metadata": {},
   "outputs": [],
   "source": [
    "import os\n",
    "import pandas as pd\n",
    "from pandas.api.types import CategoricalDtype\n",
    "import numpy as np\n",
    "import re"
   ]
  },
  {
   "cell_type": "code",
   "execution_count": 37,
   "metadata": {},
   "outputs": [],
   "source": [
    "# TODO: add case type to criminal case reports in PDCMS\n",
    "NAMES = [\"Case#\", \"Open Date\", \"Closed Date\", \"Court\", \"Latest Event\",\n",
    "             \"Intake Type\", \"TC C/L\", \"Top Charge\", \"Dispo\", \"Case Type\"]\n",
    "CASE_TYPES = CategoricalDtype(categories=[\"Homicide\",\n",
    "                                          \"Violent Felony\",\n",
    "                                          \"Non-Violent Felony\",\n",
    "                                          \"Misdemeanors, Violation, or Other\"],\n",
    "                              ordered=True)"
   ]
  },
  {
   "cell_type": "code",
   "execution_count": 36,
   "metadata": {},
   "outputs": [],
   "source": [
    "def read_and_concat_csvs(csv_names = False):\n",
    "    \"\"\"Reads all CSVs given, gives them cleaned column names from NAMES,\n",
    "    then combines them vertically.\n",
    "    \n",
    "    arguments:\n",
    "    csv_names        list of file names as strings\n",
    "    \"\"\"\n",
    "    return pd.concat(\n",
    "            [pd.read_csv(fname, names=NAMES, header=0) for fname in csv_names]\n",
    "            ).reset_index(drop=True)"
   ]
  },
  {
   "cell_type": "code",
   "execution_count": 4,
   "metadata": {},
   "outputs": [],
   "source": [
    "def classify_tc(tc):\n",
    "    \"\"\"Classifies top charge class and levels into MOCJ-requested categories.\n",
    "    \"\"\"\n",
    "    tc = str(tc) #coerce TC type to string\n",
    "    if tc == \"H\":\n",
    "        return (\"Homicide\")\n",
    "    elif (\"FL\" in tc) or (\"FV\" in tc):\n",
    "        return (\"Violent Felony\")\n",
    "    elif (tc.endswith(\"F\") or tc == \"F\"):\n",
    "        return (\"Non-Violent Felony\")\n",
    "    else:\n",
    "        return (\"Misdemeanor, Violation, or Other\")"
   ]
  },
  {
   "cell_type": "markdown",
   "metadata": {},
   "source": [
    "## Opened Cases\n",
    "Criminal, VOP, and VOCD cases opened in the reporting year"
   ]
  },
  {
   "cell_type": "code",
   "execution_count": null,
   "metadata": {},
   "outputs": [],
   "source": [
    "cases_opened = read_and_concat_csvs([\"U:\\Data and Analytics\\Projects\\ILS\\crim_cases_opened.csv\",\n",
    "                                     \"U:\\Data and Analytics\\Projects\\ILS\\post_dispo_cases_closed.csv\"])\n",
    "cases_opened[\"tc_type\"] = case_opened[\"TC C/L\"].apply(lambda x: classify_tc(tc))"
   ]
  },
  {
   "cell_type": "markdown",
   "metadata": {},
   "source": [
    "## Closed Cases\n",
    "Criminal, VOCD, and VOP cases closed in the reporting year."
   ]
  },
  {
   "cell_type": "code",
   "execution_count": null,
   "metadata": {},
   "outputs": [],
   "source": [
    "crim_cases_closed = read_and_concat_csvs([\"U:\\Data and Analytics\\Projects\\ILS\\crim_cases_closed.csv\",\n",
    "                                          \"U:\\\"U:\\Data and Analytics\\Projects\\ILS\\post_dispo_cases_closed.csv\"])"
   ]
  }
 ],
 "metadata": {
  "kernelspec": {
   "display_name": "Python 3",
   "language": "python",
   "name": "python3"
  },
  "language_info": {
   "codemirror_mode": {
    "name": "ipython",
    "version": 3
   },
   "file_extension": ".py",
   "mimetype": "text/x-python",
   "name": "python",
   "nbconvert_exporter": "python",
   "pygments_lexer": "ipython3",
   "version": "3.7.2"
  }
 },
 "nbformat": 4,
 "nbformat_minor": 2
}
