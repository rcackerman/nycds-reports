{
 "cells": [
  {
   "cell_type": "code",
   "execution_count": null,
   "metadata": {},
   "outputs": [],
   "source": [
    "import os.path\n",
    "import pandas as pd\n",
    "from pandas.api.types import CategoricalDtype\n",
    "import numpy as np\n",
    "import re"
   ]
  },
  {
   "cell_type": "code",
   "execution_count": null,
   "metadata": {},
   "outputs": [],
   "source": [
    "# TODO: add case type to criminal case reports in PDCMS\n",
    "NAMES = [\"Case#\", \"Open Date\", \"Closed Date\", \"Court\", \"Latest Event\",\n",
    "             \"Intake Type\", \"TC C/L\", \"Top Charge\", \"Dispo\", \"Case Type\"]\n",
    "CASE_TYPES = CategoricalDtype(categories=[\"Violent Felony\",\n",
    "                                          \"Non-Violent Felony\",\n",
    "                                          \"Misdemeanors, Violation, or Other\"],\n",
    "                              ordered=True)\n",
    "DATA_DIR = os.path.abspath('../../Data/')"
   ]
  },
  {
   "cell_type": "code",
   "execution_count": null,
   "metadata": {},
   "outputs": [],
   "source": [
    "def classify_tc(tc):\n",
    "    \"\"\"Classifies top charge class and levels into MOCJ-requested categories.\n",
    "    \"\"\"\n",
    "    tc = str(tc) #coerce TC type to string\n",
    "    if (\"FL\" in tc) or (\"FV\" in tc):\n",
    "        return (\"Violent Felony\")\n",
    "    elif (tc.endswith(\"F\") or tc == \"F\"):\n",
    "        return (\"Non-Violent Felony\")\n",
    "    else:\n",
    "        return (\"Misdemeanor, Violation, or Other\")"
   ]
  },
  {
   "cell_type": "markdown",
   "metadata": {},
   "source": [
    "## Opened Cases\n",
    "Criminal, VOP, and VOCD cases opened in the reporting year"
   ]
  },
  {
   "cell_type": "code",
   "execution_count": null,
   "metadata": {},
   "outputs": [],
   "source": [
    "cases_opened = pd.read_csv(os.path.join(DATA_DIR, \"ILS_cases_opened_2018.csv\"))\n",
    "#cases_opened[\"tc_type\"] = case_opened[\"TC C/L\"].apply(lambda x: classify_tc(tc))"
   ]
  },
  {
   "cell_type": "code",
   "execution_count": null,
   "metadata": {},
   "outputs": [],
   "source": [
    "# Re-code TC C/L for extradition cases\n",
    "cases_opened.loc[(cases_opened[\"Top Charge\"].str.contains(\"FUG\", na=False)), 'TC C/L'] = \"M\"\n",
    "# AC Misdemeanors don't get counted correctly\n",
    "cases_opened.loc[(cases_opened[\"Top Charge\"].str.contains(\"AC - M\", na=False)), 'TC C/L'] = \"M\""
   ]
  },
  {
   "cell_type": "code",
   "execution_count": null,
   "metadata": {},
   "outputs": [],
   "source": [
    "pd.set_option('display.max_rows', 1000)"
   ]
  },
  {
   "cell_type": "code",
   "execution_count": null,
   "metadata": {},
   "outputs": [],
   "source": [
    "cases_opened.pivot_table(index=[\"TC C/L\", \"Top Charge\"], aggfunc=\"count\").sort_index(level=1)"
   ]
  },
  {
   "cell_type": "code",
   "execution_count": null,
   "metadata": {},
   "outputs": [],
   "source": [
    "pd.DataFrame.sort_index()"
   ]
  },
  {
   "cell_type": "markdown",
   "metadata": {},
   "source": [
    "## Closed Cases\n",
    "Criminal, VOCD, and VOP cases closed in the reporting year."
   ]
  },
  {
   "cell_type": "code",
   "execution_count": null,
   "metadata": {},
   "outputs": [],
   "source": [
    "crim_cases_closed = read_and_concat_csvs([\"U:\\Data and Analytics\\Projects\\ILS\\crim_cases_closed.csv\",\n",
    "                                          \"U:\\\"U:\\Data and Analytics\\Projects\\ILS\\post_dispo_cases_closed.csv\"])"
   ]
  }
 ],
 "metadata": {
  "kernelspec": {
   "display_name": "Python 3",
   "language": "python",
   "name": "python3"
  },
  "language_info": {
   "codemirror_mode": {
    "name": "ipython",
    "version": 3
   },
   "file_extension": ".py",
   "mimetype": "text/x-python",
   "name": "python",
   "nbconvert_exporter": "python",
   "pygments_lexer": "ipython3",
   "version": "3.6.6"
  }
 },
 "nbformat": 4,
 "nbformat_minor": 2
}
